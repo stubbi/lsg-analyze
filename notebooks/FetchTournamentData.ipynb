{
 "cells": [
  {
   "cell_type": "code",
   "execution_count": 1,
   "id": "0345b0ad-6a0a-420b-8a4d-8cd2785e48f0",
   "metadata": {},
   "outputs": [],
   "source": [
    "import requests\n",
    "import bs4\n",
    "import lxml\n",
    "import json"
   ]
  },
  {
   "cell_type": "code",
   "execution_count": 2,
   "id": "d3fec122-8f42-43dd-9a21-6626f0e510a1",
   "metadata": {},
   "outputs": [],
   "source": [
    "data= {\n",
    "    'ricerca': 1,\n",
    "    'country_code': 'PL',\n",
    "    'city': 'Przystanek Alaska',\n",
    "    'filter': 'All',\n",
    "}\n",
    "res = requests.post(\"https://www.europeangodatabase.eu/EGD/Find_Tournament.php\", data=data)"
   ]
  },
  {
   "cell_type": "code",
   "execution_count": 3,
   "id": "5d14154f-b509-4cf0-a23c-d0320965f8f2",
   "metadata": {},
   "outputs": [],
   "source": [
    "soup = bs4.BeautifulSoup(res.content, 'lxml')\n",
    "tournament_table = soup.find(class_='EGD_tabella_tournament').find_parents('table')[0]\n",
    "rows = tournament_table.find_all('tr')\n",
    "tournament_data = []\n",
    "\n",
    "for row in rows:\n",
    "    td_elements = row.find_all('td')\n",
    "    row_data = [td.get_text(strip=True) for td in td_elements]\n",
    "    tournament_data.append(row_data)\n",
    "\n",
    "with open('tournament_data.json', 'w') as f:\n",
    "    json.dump(tournament_data, f, indent=2)"
   ]
  }
 ],
 "metadata": {
  "kernelspec": {
   "display_name": "Python 3 (ipykernel)",
   "language": "python",
   "name": "python3"
  },
  "language_info": {
   "codemirror_mode": {
    "name": "ipython",
    "version": 3
   },
   "file_extension": ".py",
   "mimetype": "text/x-python",
   "name": "python",
   "nbconvert_exporter": "python",
   "pygments_lexer": "ipython3",
   "version": "3.11.2"
  }
 },
 "nbformat": 4,
 "nbformat_minor": 5
}
